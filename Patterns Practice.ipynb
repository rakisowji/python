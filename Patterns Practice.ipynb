{
 "cells": [
  {
   "cell_type": "markdown",
   "id": "3823b150",
   "metadata": {},
   "source": [
    "3 3 3 2 2 2 1 1 1\n",
    "3 3 2 2 1 1\n",
    "3 2 1"
   ]
  },
  {
   "cell_type": "code",
   "execution_count": 28,
   "id": "fbe40f78",
   "metadata": {},
   "outputs": [
    {
     "name": "stdout",
     "output_type": "stream",
     "text": [
      "Enter N Value3\n",
      "3  3  3  2  2  2  1  1  1  \n",
      "3  3  2  2  1  1  \n",
      "3  2  1  \n"
     ]
    }
   ],
   "source": [
    "n = int(input(\"Enter N Value\"))\n",
    "for i in range(n,0,-1):\n",
    "    for j in range(n,0,-1):\n",
    "        for z in range(i) : \n",
    "            print(j, \" \", end=\"\")\n",
    "    print(\"\")\n",
    "    \n",
    "    "
   ]
  },
  {
   "cell_type": "raw",
   "id": "eed27a56",
   "metadata": {},
   "source": [
    "Solid Rectangle(rows and columns should not be equal)\n",
    "* * * * *\n",
    "* * * * *\n",
    "* * * * *\n",
    "* * * * *"
   ]
  },
  {
   "cell_type": "code",
   "execution_count": null,
   "id": "56848773",
   "metadata": {
    "scrolled": true
   },
   "outputs": [],
   "source": [
    "n = int(input(\"Enter number of rows \"))\n",
    "m = int(input(\"Enter number of columns\"))\n",
    "if n!=m :\n",
    "    for i in range(n):\n",
    "        for j in range(m):\n",
    "            print(\"*\",\" \",end=\"\")\n",
    "        print(\"\\n\")\n",
    "else : \n",
    "    print(\"It won't make a rectangle\")"
   ]
  },
  {
   "cell_type": "markdown",
   "id": "940ed76f",
   "metadata": {},
   "source": [
    "Hollow Rectangle\n",
    "* * * * *\n",
    "*       *\n",
    "*       *\n",
    "* * * * * "
   ]
  },
  {
   "cell_type": "code",
   "execution_count": 58,
   "id": "54d82226",
   "metadata": {},
   "outputs": [
    {
     "name": "stdout",
     "output_type": "stream",
     "text": [
      "Enter number of rows 6\n",
      "Enter number of columns7\n",
      "*  *  *  *  *  *  *  \n",
      "*                 *  \n",
      "*                 *  \n",
      "*                 *  \n",
      "*                 *  \n",
      "*  *  *  *  *  *  *  \n"
     ]
    }
   ],
   "source": [
    "n = int(input(\"Enter number of rows \"))\n",
    "m = int(input(\"Enter number of columns\"))\n",
    "for i in range(n):\n",
    "    for j in range(m):\n",
    "        if(i == 0 or j == 0 or i == n-1 or j == m-1):\n",
    "            print(\"*\",\" \",end=\"\")\n",
    "        else:\n",
    "            print(\" \",\" \",end=\"\")\n",
    "            \n",
    "    print(\"\\n\",end=\"\")"
   ]
  },
  {
   "cell_type": "markdown",
   "id": "9fd651e4",
   "metadata": {},
   "source": [
    "Half pyramid\n",
    "*\n",
    "**\n",
    "***\n",
    "****"
   ]
  },
  {
   "cell_type": "code",
   "execution_count": 63,
   "id": "66445cb0",
   "metadata": {},
   "outputs": [
    {
     "name": "stdout",
     "output_type": "stream",
     "text": [
      "Enter number of rows 4\n",
      "\n",
      "*\n",
      "**\n",
      "***\n",
      "****\n"
     ]
    }
   ],
   "source": [
    "n = int(input(\"Enter number of rows \"))\n",
    "for i in range(0 , n+1 ,1):\n",
    "    for j in range(0, i, 1):\n",
    "        print(\"*\",end=\"\")\n",
    "    print(\"\\n\",end=\"\")"
   ]
  },
  {
   "cell_type": "markdown",
   "id": "2fc707e4",
   "metadata": {},
   "source": [
    "Inverted Half pyramid\n",
    "*****\n",
    "****\n",
    "***\n",
    "**\n",
    "*"
   ]
  },
  {
   "cell_type": "code",
   "execution_count": 65,
   "id": "43ff74db",
   "metadata": {},
   "outputs": [
    {
     "name": "stdout",
     "output_type": "stream",
     "text": [
      "Enter number of rows 6\n",
      "******\n",
      "*****\n",
      "****\n",
      "***\n",
      "**\n",
      "*\n"
     ]
    }
   ],
   "source": [
    "n = int(input(\"Enter number of rows \"))\n",
    "for i in range(n , 0,-1):\n",
    "    for j in range(0, i, 1):\n",
    "        print(\"*\",end=\"\")\n",
    "    print(\"\\n\",end=\"\")"
   ]
  },
  {
   "cell_type": "markdown",
   "id": "3b6a6a14",
   "metadata": {},
   "source": [
    "Inverted Half Pyramid Rotated by 180 Degrees\n",
    "       *\n",
    "     * *\n",
    "   * * *\n",
    " * * * *"
   ]
  },
  {
   "cell_type": "code",
   "execution_count": 80,
   "id": "fdf7247e",
   "metadata": {},
   "outputs": [
    {
     "name": "stdout",
     "output_type": "stream",
     "text": [
      "Enter number of rows 5\n",
      "        * \n",
      "      * * \n",
      "    * * * \n",
      "  * * * * \n",
      "* * * * * \n"
     ]
    }
   ],
   "source": [
    "n = int(input(\"Enter number of rows \"))\n",
    "for i in range(1,n+1,1):\n",
    "    for j in range(n-i):\n",
    "        print(\" \",\"\",end=\"\")\n",
    "    for j in range(n-i,n,1):\n",
    "        print(\"*\",\"\",end=\"\")\n",
    "    print(\"\\n\",end=\"\")"
   ]
  },
  {
   "cell_type": "markdown",
   "id": "70408a5c",
   "metadata": {},
   "source": [
    "Half Pyramid with Numbers\n",
    "1\n",
    "1 2\n",
    "1 2 3\n",
    "1 2 3 4"
   ]
  },
  {
   "cell_type": "code",
   "execution_count": 86,
   "id": "9880b8a7",
   "metadata": {},
   "outputs": [
    {
     "name": "stdout",
     "output_type": "stream",
     "text": [
      "Enter number of rows 5\n",
      "1  \n",
      "1  2  \n",
      "1  2  3  \n",
      "1  2  3  4  \n",
      "1  2  3  4  5  \n"
     ]
    }
   ],
   "source": [
    "n = int(input(\"Enter number of rows \"))\n",
    "for i in range(1,n+1,1):\n",
    "    for j in range(1,i+1,1):\n",
    "        print(j, \" \",end=\"\")\n",
    "    print(\"\\n\",end=\"\")"
   ]
  },
  {
   "cell_type": "markdown",
   "id": "96e78e6d",
   "metadata": {},
   "source": [
    "Inverted Half Pyramid with Numbers\n",
    "\n",
    "1 2 3 4 5\n",
    "1 2 3 4 \n",
    "1 2 3 \n",
    "1 2 \n",
    "1"
   ]
  },
  {
   "cell_type": "code",
   "execution_count": 94,
   "id": "fdfe229c",
   "metadata": {},
   "outputs": [
    {
     "name": "stdout",
     "output_type": "stream",
     "text": [
      "Enter number of rows 15\n",
      "1  2  3  4  5  6  7  8  9  10  11  12  13  14  15  \n",
      "1  2  3  4  5  6  7  8  9  10  11  12  13  14  \n",
      "1  2  3  4  5  6  7  8  9  10  11  12  13  \n",
      "1  2  3  4  5  6  7  8  9  10  11  12  \n",
      "1  2  3  4  5  6  7  8  9  10  11  \n",
      "1  2  3  4  5  6  7  8  9  10  \n",
      "1  2  3  4  5  6  7  8  9  \n",
      "1  2  3  4  5  6  7  8  \n",
      "1  2  3  4  5  6  7  \n",
      "1  2  3  4  5  6  \n",
      "1  2  3  4  5  \n",
      "1  2  3  4  \n",
      "1  2  3  \n",
      "1  2  \n",
      "1  \n"
     ]
    }
   ],
   "source": [
    "n = int(input(\"Enter number of rows \"))\n",
    "for i in range(n, 0, -1):\n",
    "    for j in range(1,i+1,1):\n",
    "        print(j,\" \",end=\"\")\n",
    "    print(\"\\n\",end=\"\")"
   ]
  },
  {
   "cell_type": "markdown",
   "id": "a3f48dd6",
   "metadata": {},
   "source": [
    "Floyd Triangle\n",
    "1\n",
    "2 3\n",
    "4 5 6\n",
    "7 8 9 10\n",
    "11 12 13 14 15"
   ]
  },
  {
   "cell_type": "code",
   "execution_count": 97,
   "id": "10f025e0",
   "metadata": {},
   "outputs": [
    {
     "name": "stdout",
     "output_type": "stream",
     "text": [
      "Enter number of rows 5\n",
      "1  \n",
      "2  3  \n",
      "4  5  6  \n",
      "7  8  9  10  \n",
      "11  12  13  14  15  \n"
     ]
    }
   ],
   "source": [
    "n = int(input(\"Enter number of rows \"))\n",
    "num =1\n",
    "for i in range(n):\n",
    "    for j in range(i+1):\n",
    "        print(num,\" \",end=\"\")\n",
    "        num += 1\n",
    "    print(\"\\n\",end=\"\")"
   ]
  },
  {
   "cell_type": "markdown",
   "id": "4e54c8ff",
   "metadata": {},
   "source": [
    "0 -1 Triangle\n",
    "\n",
    "\n",
    "1\n",
    "0 1\n",
    "1 0 1\n",
    "0 1 0 1\n",
    "1 0 1 0 1"
   ]
  },
  {
   "cell_type": "code",
   "execution_count": 101,
   "id": "037c277a",
   "metadata": {},
   "outputs": [
    {
     "name": "stdout",
     "output_type": "stream",
     "text": [
      "Enter number of rows 5\n",
      "1  \n",
      "0  1  \n",
      "1  0  1  \n",
      "0  1  0  1  \n",
      "1  0  1  0  1  \n"
     ]
    }
   ],
   "source": [
    "n = int(input(\"Enter number of rows \"))\n",
    "for i in range(n):\n",
    "    for j in range(i +1):\n",
    "        if((i+j)%2 ==0):\n",
    "            print(\"1\",\" \",end=\"\")\n",
    "        else:\n",
    "            print(\"0\",\" \",end=\"\")\n",
    "    print(\"\\n\",end=\"\")"
   ]
  },
  {
   "cell_type": "markdown",
   "id": "e6573e67",
   "metadata": {},
   "source": [
    "Numbers Pyramid\n",
    "\n",
    "   1\n",
    "  2 2\n",
    " 3 3 3\n",
    "4 4 4 4 "
   ]
  },
  {
   "cell_type": "code",
   "execution_count": 3,
   "id": "3191486a",
   "metadata": {},
   "outputs": [
    {
     "name": "stdout",
     "output_type": "stream",
     "text": [
      "Enter number of rows 5\n",
      "    1  \n",
      "   2  2  \n",
      "  3  3  3  \n",
      " 4  4  4  4  \n",
      "5  5  5  5  5  \n"
     ]
    }
   ],
   "source": [
    "n = int(input(\"Enter number of rows \"))\n",
    "for i in range(1,n+1,1):\n",
    "    for j in range(n-i):\n",
    "        print(\" \",end=\"\")  \n",
    "    for j in range(i):\n",
    "        print(i,\" \",end=\"\")\n",
    "    print(\"\\n\",end=\"\")"
   ]
  },
  {
   "cell_type": "markdown",
   "id": "c903276f",
   "metadata": {},
   "source": [
    "Solid Rhombus\n",
    "\n",
    "    * * * * *\n",
    "  * * * * *\n",
    "* * * * *"
   ]
  },
  {
   "cell_type": "code",
   "execution_count": 8,
   "id": "fbaba46c",
   "metadata": {},
   "outputs": [
    {
     "name": "stdout",
     "output_type": "stream",
     "text": [
      "Enter number of rows 5\n",
      "               *  *  *  *  *  \n",
      "              *  *  *  *  *  \n",
      "           *  *  *  *  *  \n",
      "        *  *  *  *  *  \n",
      "     *  *  *  *  *  \n",
      "  "
     ]
    }
   ],
   "source": [
    "n = int(input(\"Enter number of rows \"))\n",
    "for i in range(n):\n",
    "    for j in range(n-i):\n",
    "        print(\" \",\" \",end=\"\")\n",
    "    for j in range(5):\n",
    "        print(\"*\",\" \",end=\"\")\n",
    "    print(\"\\n\",\" \",end=\"\")"
   ]
  },
  {
   "cell_type": "markdown",
   "id": "8eb70522",
   "metadata": {},
   "source": [
    "Polindrome Number Pyramid\n",
    "             1\n",
    "           2 1 2\n",
    "         3 2 1 2 3\n",
    "       4 3 2 1 2 3 4\n",
    "     5 4 3 2 1 2 3 4 5 "
   ]
  },
  {
   "cell_type": "code",
   "execution_count": 17,
   "id": "09b67830",
   "metadata": {},
   "outputs": [
    {
     "name": "stdout",
     "output_type": "stream",
     "text": [
      "Enter number of rows 5\n",
      "               \n",
      "              1  \n",
      "           2  1  2  \n",
      "        3  2  1  2  3  \n",
      "     4  3  2  1  2  3  4  \n",
      "  5  4  3  2  1  2  3  4  5  \n",
      "  "
     ]
    }
   ],
   "source": [
    "n = int(input(\"Enter number of rows \"))\n",
    "for i in range(n+1):\n",
    "    for j in range(n -i):\n",
    "        print(\" \",\" \",end=\"\")\n",
    "    for j in range(i,0,-1):\n",
    "        print(j , \" \",end=\"\")\n",
    "    for j in range(2,i+1, 1):\n",
    "        print(j, \" \",end=\"\")\n",
    "    print(\"\\n\",\" \",end=\"\")    "
   ]
  },
  {
   "cell_type": "code",
   "execution_count": 22,
   "id": "54fea342",
   "metadata": {},
   "outputs": [
    {
     "name": "stdout",
     "output_type": "stream",
     "text": [
      "Enter the input for a sequence of even numbers150\n",
      "0,2,4,6,8,10,12,14,16,18,20,22,24,26,28,30,32,34,36,38,40,42,44,46,48,50,52,54,56,58,60,62,64,66,68,70,72,74,76,78,80,82,84,86,88,90,92,94,96,98,100,102,104,106,108,110,112,114,116,118,120,122,124,126,128,130,132,134,136,138,140,142,144,146,148,150,\n",
      "Count of even number from 0 to 150 77\n"
     ]
    }
   ],
   "source": [
    "#print all even numbers till N input\n",
    "n = int(input(\"Enter the input for a sequence of even numbers\"))\n",
    "count = 1\n",
    "for i in range(n +1):\n",
    "    if(i %2 ==0):\n",
    "        count += 1\n",
    "        print(i,end=\",\")\n",
    "print(\"\\n\",end=\"\")\n",
    "print(\"Count of even number from 0 to\",n, count)"
   ]
  },
  {
   "cell_type": "markdown",
   "id": "6f613773",
   "metadata": {},
   "source": [
    "            *\n",
    "          * * *\n",
    "        * * * * *\n",
    "      * * * * * * *\n",
    "      * * * * * * *\n",
    "        * * * * *\n",
    "          * * * \n",
    "            *"
   ]
  },
  {
   "cell_type": "code",
   "execution_count": 29,
   "id": "1660fc8b",
   "metadata": {},
   "outputs": [
    {
     "name": "stdout",
     "output_type": "stream",
     "text": [
      "Enter number of rows 15\n",
      "                                             \n",
      "                                            *  \n",
      "                                         *  *  *  \n",
      "                                      *  *  *  *  *  \n",
      "                                   *  *  *  *  *  *  *  \n",
      "                                *  *  *  *  *  *  *  *  *  \n",
      "                             *  *  *  *  *  *  *  *  *  *  *  \n",
      "                          *  *  *  *  *  *  *  *  *  *  *  *  *  \n",
      "                       *  *  *  *  *  *  *  *  *  *  *  *  *  *  *  \n",
      "                    *  *  *  *  *  *  *  *  *  *  *  *  *  *  *  *  *  \n",
      "                 *  *  *  *  *  *  *  *  *  *  *  *  *  *  *  *  *  *  *  \n",
      "              *  *  *  *  *  *  *  *  *  *  *  *  *  *  *  *  *  *  *  *  *  \n",
      "           *  *  *  *  *  *  *  *  *  *  *  *  *  *  *  *  *  *  *  *  *  *  *  \n",
      "        *  *  *  *  *  *  *  *  *  *  *  *  *  *  *  *  *  *  *  *  *  *  *  *  *  \n",
      "     *  *  *  *  *  *  *  *  *  *  *  *  *  *  *  *  *  *  *  *  *  *  *  *  *  *  *  \n",
      "  *  *  *  *  *  *  *  *  *  *  *  *  *  *  *  *  *  *  *  *  *  *  *  *  *  *  *  *  *  \n",
      "  *  *  *  *  *  *  *  *  *  *  *  *  *  *  *  *  *  *  *  *  *  *  *  *  *  *  *  *  *  \n",
      "     *  *  *  *  *  *  *  *  *  *  *  *  *  *  *  *  *  *  *  *  *  *  *  *  *  *  *  \n",
      "        *  *  *  *  *  *  *  *  *  *  *  *  *  *  *  *  *  *  *  *  *  *  *  *  *  \n",
      "           *  *  *  *  *  *  *  *  *  *  *  *  *  *  *  *  *  *  *  *  *  *  *  \n",
      "              *  *  *  *  *  *  *  *  *  *  *  *  *  *  *  *  *  *  *  *  *  \n",
      "                 *  *  *  *  *  *  *  *  *  *  *  *  *  *  *  *  *  *  *  \n",
      "                    *  *  *  *  *  *  *  *  *  *  *  *  *  *  *  *  *  \n",
      "                       *  *  *  *  *  *  *  *  *  *  *  *  *  *  *  \n",
      "                          *  *  *  *  *  *  *  *  *  *  *  *  *  \n",
      "                             *  *  *  *  *  *  *  *  *  *  *  \n",
      "                                *  *  *  *  *  *  *  *  *  \n",
      "                                   *  *  *  *  *  *  *  \n",
      "                                      *  *  *  *  *  \n",
      "                                         *  *  *  \n",
      "                                            *  \n",
      "  "
     ]
    }
   ],
   "source": [
    "n = int(input(\"Enter number of rows \"))\n",
    "for i in range(n +1):\n",
    "    for j in range(n-i):\n",
    "        print(\" \",\" \",end=\"\")\n",
    "    for j in range(2*i -1):\n",
    "        print(\"*\",\" \",end=\"\")\n",
    "    print(\"\\n\",\" \",end=\"\") \n",
    "for i in range(n,0 , -1):\n",
    "    for j in range(n-i):\n",
    "        print(\" \",\" \",end=\"\")\n",
    "    for j in range(2*i -1):\n",
    "        print(\"*\",\" \",end=\"\")\n",
    "    print(\"\\n\",\" \",end=\"\")"
   ]
  },
  {
   "cell_type": "markdown",
   "id": "98de19a8",
   "metadata": {},
   "source": [
    "Make a menu driven program. The user can enter 2 numbers, either 1 or 0. \n",
    "If the user enters 1 then keep taking input from the user for a student’s marks(out of 100). \n",
    "If they enter 0 then stop.\n",
    "If he/ she scores :\n",
    "Marks >=90 -> print “This is Good”\n",
    "89 >= Marks >= 60 -> print “This is also Good”\n",
    "59 >= Marks >= 0 -> print “This is Good as well”\n",
    "\tBecause marks don’t matter but our effort does."
   ]
  },
  {
   "cell_type": "code",
   "execution_count": 47,
   "id": "7030a455",
   "metadata": {},
   "outputs": [
    {
     "name": "stdout",
     "output_type": "stream",
     "text": [
      "Enter the either 1 or 0 as input\n",
      "0\n"
     ]
    }
   ],
   "source": [
    "n = int(input(\"Enter the either 1 or 0 as input\\n\"))\n",
    "while n:\n",
    "    marks = int(input(\"Please enter the marks\"))\n",
    "    if marks >= 90:\n",
    "        print(\"This is Good\")\n",
    "    elif marks <= 89 and marks >= 60: \n",
    "        print(\"This is also Good\")\n",
    "    else: \n",
    "        print(\"This is Good as well\")     \n"
   ]
  },
  {
   "cell_type": "markdown",
   "id": "4a6ab700",
   "metadata": {},
   "source": [
    "Qs. Print if a number n is prime or not (Input n from the user). "
   ]
  },
  {
   "cell_type": "code",
   "execution_count": 52,
   "id": "181bca18",
   "metadata": {},
   "outputs": [
    {
     "name": "stdout",
     "output_type": "stream",
     "text": [
      "Enter the number to check whether it is a prime or not?\n",
      "57\n",
      "It is a Composite number\n"
     ]
    }
   ],
   "source": [
    "import math\n",
    "\n",
    "n = int(input(\"Enter the number to check whether it is a prime or not?\\n\"))\n",
    "flag = 1\n",
    "if n ==1:\n",
    "    print(\"It is neither prime nor composite number\")\n",
    "else :\n",
    "    for j in range(2, math.ceil(n/2), 1):\n",
    "        if n % j ==0:\n",
    "            flag = 0\n",
    "\n",
    "if(flag):\n",
    "    print(\"It is a prime number\")\n",
    "else:\n",
    "    print(\"It is a Composite number\")"
   ]
  },
  {
   "cell_type": "markdown",
   "id": "fbd473be",
   "metadata": {},
   "source": [
    "Print Inverted Half Pyramid\n",
    "1 1 1 1\n",
    "2 2 2\n",
    "3 3\n",
    "4"
   ]
  },
  {
   "cell_type": "code",
   "execution_count": 58,
   "id": "a6251772",
   "metadata": {},
   "outputs": [
    {
     "name": "stdout",
     "output_type": "stream",
     "text": [
      "Enter the number4\n",
      "1  1  1  1  \n",
      "2  2  2  \n",
      "3  3  \n",
      "4  \n"
     ]
    }
   ],
   "source": [
    "n = int(input(\"Enter the number\"))\n",
    "for i in range(1,n+1,1):\n",
    "    for j in range(n+1-i):\n",
    "        print(i,\" \",end=\"\")\n",
    "    print(\"\\n\",end=\"\")    "
   ]
  },
  {
   "cell_type": "markdown",
   "id": "b8a1aeca",
   "metadata": {},
   "source": [
    "Print a hollow Rhombus.\n",
    "    *****\n",
    "   *      *\n",
    "  *     *\n",
    " *     *\n",
    "*****\n"
   ]
  },
  {
   "cell_type": "code",
   "execution_count": 4,
   "id": "efcd07b5",
   "metadata": {},
   "outputs": [
    {
     "name": "stdout",
     "output_type": "stream",
     "text": [
      "Enter a number of rows for a Rhombus \n",
      "5\n",
      "               *  *  *  *  *  \n",
      "              *           *  \n",
      "           *           *  \n",
      "        *           *  \n",
      "     *  *  *  *  *  \n",
      "  "
     ]
    }
   ],
   "source": [
    "n = int(input(\"Enter a number of rows for a Rhombus \\n\"))\n",
    "for i in range(1,n+1,1):\n",
    "    for j in range(n+1 - i):\n",
    "        print(\" \", \" \",end=\"\")\n",
    "    if i == 1 or i == n :\n",
    "        for j in range(n):    \n",
    "            print(\"*\",\" \",end=\"\")\n",
    "    else:\n",
    "        for j in range(1,n+1,1):\n",
    "            if j ==1 or j == n:\n",
    "                print(\"*\",\" \",end=\"\")\n",
    "            else:\n",
    "                print(\" \",\" \",end=\"\")\n",
    "    print(\"\\n\",\" \",end=\"\")            \n",
    "        "
   ]
  },
  {
   "cell_type": "markdown",
   "id": "4aa0fbf9",
   "metadata": {},
   "source": [
    "Print half Pyramid.\n",
    "    1\n",
    "   1 2\n",
    "  1 2 3\n",
    " 1 2 3 4\n",
    "1 2 3 4 5\n"
   ]
  },
  {
   "cell_type": "code",
   "execution_count": 10,
   "id": "4289e271",
   "metadata": {},
   "outputs": [
    {
     "name": "stdout",
     "output_type": "stream",
     "text": [
      "Enter the number of rows5\n",
      "        1  \n",
      "       1  2  \n",
      "     1  2  3  \n",
      "   1  2  3  4  \n",
      " 1  2  3  4  5  \n",
      " "
     ]
    }
   ],
   "source": [
    "n =int(input(\"Enter the number of rows\"))\n",
    "for i in range(1,n+1,1):\n",
    "    for j in range(1, n+1-i):\n",
    "        print(\" \", \"\",end=\"\")\n",
    "    for j in range(1,i+1):\n",
    "        print(j, \" \",end=\"\")\n",
    "    print(\"\\n\",\"\",end=\"\")    "
   ]
  },
  {
   "cell_type": "markdown",
   "id": "288b28da",
   "metadata": {},
   "source": [
    "Print Pascal’s Triangle.\n",
    "    1\n",
    "   1 1\n",
    "  1 2 1\n",
    " 1 3 3 1\n",
    "1 4 6 4 1"
   ]
  },
  {
   "cell_type": "code",
   "execution_count": 23,
   "id": "e7b959c2",
   "metadata": {},
   "outputs": [
    {
     "name": "stdout",
     "output_type": "stream",
     "text": [
      "Enter the number of rows5\n",
      "      1  \n",
      "     1  1  \n",
      "    1  2  1  \n",
      "   1  3  3  1  \n",
      "  1  4  6  4  1  \n"
     ]
    }
   ],
   "source": [
    "from math import factorial\n",
    "n =int(input(\"Enter the number of rows\"))\n",
    "for i in range(n):\n",
    "    for j in range(n-i+1):\n",
    "        print(\" \",end=\"\")\n",
    "    for j in range(i+1):\n",
    "        #ncr = n!/(n-r)! * r!\n",
    "        print(factorial(i)//(factorial(j) * factorial(i-j)),\" \", end=\"\")\n",
    "    print(\"\\n\",end=\"\")    "
   ]
  },
  {
   "cell_type": "code",
   "execution_count": null,
   "id": "2ce87daa",
   "metadata": {},
   "outputs": [],
   "source": []
  }
 ],
 "metadata": {
  "kernelspec": {
   "display_name": "Python 3 (ipykernel)",
   "language": "python",
   "name": "python3"
  },
  "language_info": {
   "codemirror_mode": {
    "name": "ipython",
    "version": 3
   },
   "file_extension": ".py",
   "mimetype": "text/x-python",
   "name": "python",
   "nbconvert_exporter": "python",
   "pygments_lexer": "ipython3",
   "version": "3.10.6"
  }
 },
 "nbformat": 4,
 "nbformat_minor": 5
}
